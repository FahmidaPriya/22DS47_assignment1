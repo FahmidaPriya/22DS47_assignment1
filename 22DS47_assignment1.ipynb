{
 "cells": [
  {
   "cell_type": "code",
   "execution_count": 1,
   "id": "799ba207",
   "metadata": {},
   "outputs": [
    {
     "name": "stdout",
     "output_type": "stream",
     "text": [
      "Hello World!\n"
     ]
    }
   ],
   "source": [
    "print(\"Hello World!\")"
   ]
  },
  {
   "cell_type": "code",
   "execution_count": 2,
   "id": "0e4694f2",
   "metadata": {},
   "outputs": [
    {
     "name": "stdout",
     "output_type": "stream",
     "text": [
      "50\n",
      "40\n",
      "X = 90\n"
     ]
    }
   ],
   "source": [
    "a = int(input())\n",
    "b = int(input())\n",
    "X = a+b\n",
    "print(\"X = %i\"%X)"
   ]
  },
  {
   "cell_type": "code",
   "execution_count": 3,
   "id": "aa83fb52",
   "metadata": {},
   "outputs": [
    {
     "name": "stdout",
     "output_type": "stream",
     "text": [
      "3\n",
      "A=28.2743\n"
     ]
    }
   ],
   "source": [
    "import math\n",
    "π = 3.14159\n",
    "n = float(input())\n",
    "A= π*(math.pow(n,2))\n",
    "print(\"A=%0.4f\"%A)"
   ]
  },
  {
   "cell_type": "code",
   "execution_count": 4,
   "id": "fa2e652d",
   "metadata": {},
   "outputs": [
    {
     "name": "stdout",
     "output_type": "stream",
     "text": [
      "20\n",
      "30\n",
      "SOMA = 50\n"
     ]
    }
   ],
   "source": [
    "a = int(input())\n",
    "b = int(input())\n",
    "X = a+b\n",
    "print(\"SOMA = %i\"%X)"
   ]
  },
  {
   "cell_type": "code",
   "execution_count": 5,
   "id": "e8eb5a62",
   "metadata": {},
   "outputs": [
    {
     "name": "stdout",
     "output_type": "stream",
     "text": [
      "12\n",
      "14\n",
      "PROD = 168\n"
     ]
    }
   ],
   "source": [
    "a = int(input())\n",
    "b = int(input())\n",
    "X = a*b\n",
    "print(\"PROD = %i\"%X)"
   ]
  },
  {
   "cell_type": "code",
   "execution_count": 6,
   "id": "0086fa40",
   "metadata": {},
   "outputs": [
    {
     "name": "stdout",
     "output_type": "stream",
     "text": [
      "12\n",
      "10\n",
      "MEDIA = 10.63636\n"
     ]
    }
   ],
   "source": [
    "a = float(input())\n",
    "b = float(input())\n",
    "X = float(((a*3.5)+(b*7.5))/(3.5+7.5))\n",
    "print(\"MEDIA = %.5f\"%X)"
   ]
  },
  {
   "cell_type": "code",
   "execution_count": 7,
   "id": "51258e11",
   "metadata": {},
   "outputs": [
    {
     "name": "stdout",
     "output_type": "stream",
     "text": [
      "3.45\n",
      "2.22\n",
      "1.57\n",
      "MEDIA = 2.1\n"
     ]
    }
   ],
   "source": [
    "a = float(input())\n",
    "b = float(input())\n",
    "c = float(input())\n",
    "X = float(((a*2)+(b*3)+(c*5))/(2+3+5))\n",
    "print(\"MEDIA = %.1f\"%X)"
   ]
  },
  {
   "cell_type": "code",
   "execution_count": 8,
   "id": "34a2fd85",
   "metadata": {},
   "outputs": [
    {
     "name": "stdout",
     "output_type": "stream",
     "text": [
      "4\n",
      "4\n",
      "5\n",
      "2\n",
      "DIFERENCA = 6\n"
     ]
    }
   ],
   "source": [
    "a = int(input())\n",
    "b = int(input())\n",
    "c = int(input())\n",
    "d = int(input())\n",
    "X=(a*b)-(c*d)\n",
    "print(\"DIFERENCA = %i\"%X)"
   ]
  },
  {
   "cell_type": "code",
   "execution_count": 9,
   "id": "d16c28aa",
   "metadata": {},
   "outputs": [
    {
     "name": "stdout",
     "output_type": "stream",
     "text": [
      "20\n",
      "23\n",
      "21\n",
      "NUMBER = 20\n",
      "SALARY = U$ 483.00\n"
     ]
    }
   ],
   "source": [
    "a=int(input())\n",
    "b=int(input())\n",
    "c=float(input())\n",
    "x=float(b*c)\n",
    "print(\"NUMBER = %i\"%a)\n",
    "print(\"SALARY = U$ %.2f\"%x)"
   ]
  },
  {
   "cell_type": "code",
   "execution_count": 10,
   "id": "65982528",
   "metadata": {},
   "outputs": [
    {
     "name": "stdout",
     "output_type": "stream",
     "text": [
      "31\n",
      "12\n",
      "21\n",
      "TOTAL = R$ 15.15\n"
     ]
    }
   ],
   "source": [
    "a=str(input())\n",
    "b=float(input())\n",
    "c=float(input())\n",
    "x=float(b+(c*0.15))\n",
    "print(\"TOTAL = R$ %.2f\"%x)"
   ]
  },
  {
   "cell_type": "code",
   "execution_count": 11,
   "id": "f77cdf7f",
   "metadata": {},
   "outputs": [
    {
     "name": "stdout",
     "output_type": "stream",
     "text": [
      "2\n",
      "3\n",
      "2\n",
      "2\n",
      "2\n",
      "2\n",
      "VALOR A PAGAR: R$ 10.00\n"
     ]
    }
   ],
   "source": [
    "a=int(input())\n",
    "b=int(input())\n",
    "c=float(input())\n",
    "d=int(input())\n",
    "e=int(input())\n",
    "f=float(input())\n",
    "x=float((b*c)+(e*f))\n",
    "print(\"VALOR A PAGAR: R$ %0.2f\"%x)"
   ]
  },
  {
   "cell_type": "code",
   "execution_count": 12,
   "id": "c3467aed",
   "metadata": {},
   "outputs": [
    {
     "name": "stdout",
     "output_type": "stream",
     "text": [
      "5\n",
      "VOLUME = 523.598\n"
     ]
    }
   ],
   "source": [
    "import math\n",
    "π = 3.14159\n",
    "n = int(input())\n",
    "A= (4/3)*π*(math.pow(n,3))\n",
    "print(\"VOLUME = %0.3f\"%A)"
   ]
  },
  {
   "cell_type": "code",
   "execution_count": 13,
   "id": "57be5cb7",
   "metadata": {},
   "outputs": [
    {
     "name": "stdout",
     "output_type": "stream",
     "text": [
      "2.22\n",
      "3.45\n",
      "2.27\n",
      "TRIANGULO: 2.520\n",
      "CIRCULO: 16.188\n",
      "TRAPEZIO: 6.435\n",
      "QUADRADO: 11.903\n",
      "RETANGULO: 7.659\n"
     ]
    }
   ],
   "source": [
    "import math\n",
    "π = 3.14159\n",
    "a=float(input())\n",
    "b=float(input())\n",
    "c=float(input())\n",
    "t=(1/2)*a*c\n",
    "rc=π*(math.pow(c,2))\n",
    "trp=(1/2)*(a+b)*c\n",
    "sq=b*b\n",
    "ract=a*b\n",
    "print(\"TRIANGULO: %.3f\"%t)\n",
    "print(\"CIRCULO: %.3f\"%rc)\n",
    "print(\"TRAPEZIO: %.3f\"%trp)\n",
    "print(\"QUADRADO: %.3f\"%sq)\n",
    "print(\"RETANGULO: %.3f\"%ract)"
   ]
  },
  {
   "cell_type": "code",
   "execution_count": 14,
   "id": "9a889abd",
   "metadata": {},
   "outputs": [
    {
     "name": "stdout",
     "output_type": "stream",
     "text": [
      "2\n",
      "5\n",
      "0.400 km/l\n"
     ]
    }
   ],
   "source": [
    "a=int(input())\n",
    "b=float(input())\n",
    "x=a/b\n",
    "print(\"%.3f km/l\"%x)"
   ]
  },
  {
   "cell_type": "code",
   "execution_count": 18,
   "id": "9108784b",
   "metadata": {},
   "outputs": [
    {
     "name": "stdout",
     "output_type": "stream",
     "text": [
      "2.90 1.8\n",
      "1.3 7.4\n",
      "5.824\n"
     ]
    }
   ],
   "source": [
    "import math\n",
    "x1,y1=list(map(float,input().split()))\n",
    "x2,y2=list(map(float,input().split()))\n",
    "x=math.sqrt(pow((x2-x1),2)+pow((y2-y1),2))\n",
    "print(\"%.3f\"%x)"
   ]
  },
  {
   "cell_type": "code",
   "execution_count": 19,
   "id": "6ccd4bfd",
   "metadata": {},
   "outputs": [
    {
     "name": "stdout",
     "output_type": "stream",
     "text": [
      "34\n",
      "68 minutos\n"
     ]
    }
   ],
   "source": [
    "a=int(input())\n",
    "x=a*2\n",
    "print(\"%i minutos\"%x)"
   ]
  },
  {
   "cell_type": "code",
   "execution_count": 20,
   "id": "78e8ffb7",
   "metadata": {},
   "outputs": [
    {
     "name": "stdout",
     "output_type": "stream",
     "text": [
      "2\n",
      "6\n",
      "1.000\n"
     ]
    }
   ],
   "source": [
    "a=int(input())\n",
    "b=int(input())\n",
    "x=(a*b)/12.00\n",
    "print(\"%.3f\"%x)"
   ]
  },
  {
   "cell_type": "code",
   "execution_count": 21,
   "id": "bc33794f",
   "metadata": {},
   "outputs": [
    {
     "name": "stdout",
     "output_type": "stream",
     "text": [
      "400\n",
      "0:6:40\n"
     ]
    }
   ],
   "source": [
    "s=int(input())\n",
    "m=int(s/60)\n",
    "s=s-m*60\n",
    "h=int(m/60)\n",
    "m=m-h*60\n",
    "print(f'{h}:{m}:{s}')"
   ]
  },
  {
   "cell_type": "code",
   "execution_count": 22,
   "id": "600677a8",
   "metadata": {},
   "outputs": [
    {
     "name": "stdout",
     "output_type": "stream",
     "text": [
      "1200\n",
      "3 ano(s)\n",
      "3 mes(es)\n",
      "15 dia(s)\n"
     ]
    }
   ],
   "source": [
    "d=int(input())\n",
    "y=int(d/365)\n",
    "m=int((d% 365)/30)\n",
    "d=int((d%365)%30)\n",
    "print(f'{y} ano(s)')\n",
    "print(f'{m} mes(es)')\n",
    "print(f'{d} dia(s)')"
   ]
  },
  {
   "cell_type": "code",
   "execution_count": null,
   "id": "4276ae85",
   "metadata": {},
   "outputs": [],
   "source": []
  }
 ],
 "metadata": {
  "kernelspec": {
   "display_name": "Python 3 (ipykernel)",
   "language": "python",
   "name": "python3"
  },
  "language_info": {
   "codemirror_mode": {
    "name": "ipython",
    "version": 3
   },
   "file_extension": ".py",
   "mimetype": "text/x-python",
   "name": "python",
   "nbconvert_exporter": "python",
   "pygments_lexer": "ipython3",
   "version": "3.9.7"
  }
 },
 "nbformat": 4,
 "nbformat_minor": 5
}
