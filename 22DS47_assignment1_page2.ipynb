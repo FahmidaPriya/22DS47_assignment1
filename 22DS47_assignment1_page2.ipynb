{
 "cells": [
  {
   "cell_type": "code",
   "execution_count": 1,
   "id": "c07da5e4",
   "metadata": {},
   "outputs": [
    {
     "name": "stdout",
     "output_type": "stream",
     "text": [
      "3 2\n",
      "Total: R$ 10.00\n"
     ]
    }
   ],
   "source": [
    "#1038\n",
    "\n",
    "X,Y=list(map(int,input().split()))\n",
    "if(X == 1):\n",
    "    price  = (float) (4.00 * Y)\n",
    "elif(X == 2):\n",
    "    price  = (float) (4.50 * Y)\n",
    "elif(X == 3):\n",
    "    price  = (float) (5.00 * Y)\n",
    "elif (X == 4):\n",
    "    price  = (float) (2.00 * Y);\n",
    "elif (X == 5):\n",
    "    price  = (float) (1.50 * Y)\n",
    "print(f\"Total: R$ {price:.2f}\")"
   ]
  },
  {
   "cell_type": "code",
   "execution_count": 2,
   "id": "e473b094",
   "metadata": {},
   "outputs": [
    {
     "name": "stdout",
     "output_type": "stream",
     "text": [
      "2.0 4.0 7.0 8.0\n",
      "Media: 5.2\n",
      "Aluno em exame.\n",
      "6.4\n",
      "Nota do exame: 6.4\n",
      "Aluno aprovado.\n",
      "Media final: 5.8\n"
     ]
    }
   ],
   "source": [
    "#1040\n",
    "\n",
    "a,b,c,d = map(float,input().split())\n",
    "a= (a*2+b*3+c*4+d*1)/10\n",
    "print(\"Media: %.1f\"%a)\n",
    "if a>=7.0:\n",
    "    print(\"Aluno aprovado.\")\n",
    "elif a<5.0:\n",
    "    print(\"Aluno reprovado.\")\n",
    "elif a>=5.0 and a<7.0:\n",
    "    print(\"Aluno em exame.\")\n",
    "    x=float(input())\n",
    "    print(\"Nota do exame: %.1f\"%x)\n",
    "    x=float(a+x)/2\n",
    "    if x>=5.0:\n",
    "        print(\"Aluno aprovado.\")\n",
    "        print(\"Media final: %.1f\"%x)\n",
    "    else:\n",
    "        print(\"Aluno reprovado.\")\n",
    "        print(\"Media final: %.1f\"%x)"
   ]
  },
  {
   "cell_type": "code",
   "execution_count": 3,
   "id": "e877ff57",
   "metadata": {},
   "outputs": [
    {
     "name": "stdout",
     "output_type": "stream",
     "text": [
      "4.5 -2.2\n",
      "Q4\n"
     ]
    }
   ],
   "source": [
    "#1041\n",
    "\n",
    "X,Y=list(map(float,input().split()))\n",
    "if(X==0 and Y==0):\n",
    "    print(\"Origem\")\n",
    "elif(X==0):\n",
    "    print(\"Eixo Y\")\n",
    "elif(Y==0):\n",
    "    print(\"Eixo X\")\n",
    "elif(X>0 and Y>0):\n",
    "    print(\"Q1\")\n",
    "elif(X<0 and Y>0):\n",
    "    print(\"Q2\")\n",
    "elif(X<0 and Y<0):\n",
    "    print(\"Q3\")\n",
    "elif(X>0 and Y<0):\n",
    "    print(\"Q4\")"
   ]
  },
  {
   "cell_type": "code",
   "execution_count": 4,
   "id": "2b2488ff",
   "metadata": {},
   "outputs": [
    {
     "name": "stdout",
     "output_type": "stream",
     "text": [
      "7 21 -14\n",
      "-14\n",
      "7\n",
      "21\n",
      "\n",
      "7\n",
      "21\n",
      "-14\n"
     ]
    }
   ],
   "source": [
    "#1042\n",
    "\n",
    "X,Y,Z = map(int,input().split())\n",
    "list = [X,Y,Z]\n",
    "list.sort()\n",
    "print(f\"{list[0]}\\n{list[1]}\\n{list[2]}\")\n",
    "print(f\"\\n{X}\\n{Y}\\n{Z}\")"
   ]
  },
  {
   "cell_type": "code",
   "execution_count": 5,
   "id": "2b387b18",
   "metadata": {},
   "outputs": [
    {
     "name": "stdout",
     "output_type": "stream",
     "text": [
      "6.0 4.0 2.0\n",
      "Area = 10.0\n"
     ]
    }
   ],
   "source": [
    "#1043\n",
    "\n",
    "A,B,C = map(float,input().split())\n",
    "if (A+B)>C and (A+C)>B and (B+C)>A:\n",
    "    perimeter = (A+B+C)\n",
    "    print(f\"Perimetro = {perimeter:0.1f}\")\n",
    "else:\n",
    "    area = 0.5*(A+B)*C\n",
    "    print(f\"Area = {area:0.1f}\")"
   ]
  },
  {
   "cell_type": "code",
   "execution_count": 6,
   "id": "68954099",
   "metadata": {},
   "outputs": [
    {
     "name": "stdout",
     "output_type": "stream",
     "text": [
      "6 24\n",
      "Sao Multiplos\n"
     ]
    }
   ],
   "source": [
    "#1044\n",
    "\n",
    "a,b=map(int, input().split())\n",
    "if (a%b==0)or(b%a==0):\n",
    "    print(\"Sao Multiplos\")\n",
    "else:\n",
    "    print(\"Nao sao Multiplos\")"
   ]
  },
  {
   "cell_type": "code",
   "execution_count": 7,
   "id": "cbc1f16b",
   "metadata": {},
   "outputs": [
    {
     "name": "stdout",
     "output_type": "stream",
     "text": [
      "7.0 5.0 7.0\n",
      "TRIANGULO ACUTANGULO\n",
      "TRIANGULO ISOSCELES\n"
     ]
    }
   ],
   "source": [
    "#1045\n",
    "\n",
    "a,b,c=map(float,input().split())\n",
    "if(a < b):\n",
    "    x = a\n",
    "    a = b\n",
    "    b = x\n",
    "if(b < c):\n",
    "    x = b\n",
    "    b = c\n",
    "    c = x\n",
    "if(a < b):\n",
    "    x = a\n",
    "    a = b\n",
    "    b = x\n",
    "if(a>=(b+c)):\n",
    "    print(\"NAO FORMA TRIANGULO\")\n",
    "elif(a*a == (b*b+c*c)):\n",
    "     print(\"TRIANGULO RETANGULO\")\n",
    "elif(a * a > (b*b+ c*c)):\n",
    "    print(\"TRIANGULO OBTUSANGULO\")\n",
    "elif(a*a<(b*b + c*c)):\n",
    "    print(\"TRIANGULO ACUTANGULO\")\n",
    "if(a == b and b == c):\n",
    "        print(\"TRIANGULO EQUILATERO\")\n",
    "elif(a == b or b == c):\n",
    "        print(\"TRIANGULO ISOSCELES\")"
   ]
  },
  {
   "cell_type": "code",
   "execution_count": 11,
   "id": "4a270bc3",
   "metadata": {},
   "outputs": [
    {
     "name": "stdout",
     "output_type": "stream",
     "text": [
      "16 2\n"
     ]
    },
    {
     "ename": "TypeError",
     "evalue": "'list' object is not callable",
     "output_type": "error",
     "traceback": [
      "\u001b[1;31m---------------------------------------------------------------------------\u001b[0m",
      "\u001b[1;31mTypeError\u001b[0m                                 Traceback (most recent call last)",
      "\u001b[1;32m~\\AppData\\Local\\Temp/ipykernel_26232/20699329.py\u001b[0m in \u001b[0;36m<module>\u001b[1;34m\u001b[0m\n\u001b[0;32m      1\u001b[0m \u001b[1;31m#1046\u001b[0m\u001b[1;33m\u001b[0m\u001b[1;33m\u001b[0m\u001b[0m\n\u001b[0;32m      2\u001b[0m \u001b[1;33m\u001b[0m\u001b[0m\n\u001b[1;32m----> 3\u001b[1;33m \u001b[0mx\u001b[0m\u001b[1;33m,\u001b[0m\u001b[0my\u001b[0m\u001b[1;33m=\u001b[0m\u001b[0mlist\u001b[0m\u001b[1;33m(\u001b[0m\u001b[0mmap\u001b[0m\u001b[1;33m(\u001b[0m\u001b[0mint\u001b[0m\u001b[1;33m,\u001b[0m\u001b[0minput\u001b[0m\u001b[1;33m(\u001b[0m\u001b[1;33m)\u001b[0m\u001b[1;33m.\u001b[0m\u001b[0msplit\u001b[0m\u001b[1;33m(\u001b[0m\u001b[1;33m)\u001b[0m\u001b[1;33m)\u001b[0m\u001b[1;33m)\u001b[0m\u001b[1;33m\u001b[0m\u001b[1;33m\u001b[0m\u001b[0m\n\u001b[0m\u001b[0;32m      4\u001b[0m \u001b[1;32mif\u001b[0m\u001b[1;33m(\u001b[0m\u001b[0mx\u001b[0m\u001b[1;33m<\u001b[0m\u001b[0my\u001b[0m\u001b[1;33m)\u001b[0m\u001b[1;33m:\u001b[0m\u001b[1;33m\u001b[0m\u001b[1;33m\u001b[0m\u001b[0m\n\u001b[0;32m      5\u001b[0m     \u001b[0mt\u001b[0m\u001b[1;33m=\u001b[0m\u001b[0my\u001b[0m\u001b[1;33m-\u001b[0m\u001b[0mx\u001b[0m\u001b[1;33m\u001b[0m\u001b[1;33m\u001b[0m\u001b[0m\n",
      "\u001b[1;31mTypeError\u001b[0m: 'list' object is not callable"
     ]
    }
   ],
   "source": [
    "#1046\n",
    "\n",
    "x,y=list(map(int,input().split()))\n",
    "if(x<y):\n",
    "    t=y-x\n",
    "else:\n",
    "    t=y+24-x\n",
    "print(\"O JOGO DUROU %i HORA(S)\"%t)"
   ]
  },
  {
   "cell_type": "code",
   "execution_count": 9,
   "id": "add1672d",
   "metadata": {},
   "outputs": [
    {
     "ename": "KeyboardInterrupt",
     "evalue": "Interrupted by user",
     "output_type": "error",
     "traceback": [
      "\u001b[1;31m---------------------------------------------------------------------------\u001b[0m",
      "\u001b[1;31mKeyboardInterrupt\u001b[0m                         Traceback (most recent call last)",
      "\u001b[1;32m~\\AppData\\Local\\Temp/ipykernel_26232/2065001684.py\u001b[0m in \u001b[0;36m<module>\u001b[1;34m\u001b[0m\n\u001b[0;32m      1\u001b[0m \u001b[1;31m#1047\u001b[0m\u001b[1;33m\u001b[0m\u001b[1;33m\u001b[0m\u001b[0m\n\u001b[0;32m      2\u001b[0m \u001b[1;33m\u001b[0m\u001b[0m\n\u001b[1;32m----> 3\u001b[1;33m \u001b[0ma\u001b[0m\u001b[1;33m,\u001b[0m\u001b[0mc\u001b[0m\u001b[1;33m,\u001b[0m\u001b[0mb\u001b[0m\u001b[1;33m,\u001b[0m\u001b[0md\u001b[0m\u001b[1;33m=\u001b[0m\u001b[0mlist\u001b[0m\u001b[1;33m(\u001b[0m\u001b[0mmap\u001b[0m\u001b[1;33m(\u001b[0m\u001b[0mint\u001b[0m\u001b[1;33m,\u001b[0m\u001b[0minput\u001b[0m\u001b[1;33m(\u001b[0m\u001b[1;33m)\u001b[0m\u001b[1;33m.\u001b[0m\u001b[0msplit\u001b[0m\u001b[1;33m(\u001b[0m\u001b[1;33m)\u001b[0m\u001b[1;33m)\u001b[0m\u001b[1;33m)\u001b[0m\u001b[1;33m\u001b[0m\u001b[1;33m\u001b[0m\u001b[0m\n\u001b[0m\u001b[0;32m      4\u001b[0m \u001b[1;33m\u001b[0m\u001b[0m\n\u001b[0;32m      5\u001b[0m \u001b[0mdf\u001b[0m\u001b[1;33m=\u001b[0m\u001b[1;33m(\u001b[0m\u001b[1;33m(\u001b[0m\u001b[0mb\u001b[0m\u001b[1;33m*\u001b[0m\u001b[1;36m60\u001b[0m\u001b[1;33m)\u001b[0m\u001b[1;33m+\u001b[0m\u001b[0md\u001b[0m\u001b[1;33m)\u001b[0m\u001b[1;33m-\u001b[0m\u001b[1;33m(\u001b[0m\u001b[1;33m(\u001b[0m\u001b[0ma\u001b[0m\u001b[1;33m*\u001b[0m\u001b[1;36m60\u001b[0m\u001b[1;33m)\u001b[0m\u001b[1;33m+\u001b[0m\u001b[0mc\u001b[0m\u001b[1;33m)\u001b[0m\u001b[1;33m\u001b[0m\u001b[1;33m\u001b[0m\u001b[0m\n",
      "\u001b[1;32m~\\anaconda3\\lib\\site-packages\\ipykernel\\kernelbase.py\u001b[0m in \u001b[0;36mraw_input\u001b[1;34m(self, prompt)\u001b[0m\n\u001b[0;32m   1004\u001b[0m                 \u001b[1;34m\"raw_input was called, but this frontend does not support input requests.\"\u001b[0m\u001b[1;33m\u001b[0m\u001b[1;33m\u001b[0m\u001b[0m\n\u001b[0;32m   1005\u001b[0m             )\n\u001b[1;32m-> 1006\u001b[1;33m         return self._input_request(\n\u001b[0m\u001b[0;32m   1007\u001b[0m             \u001b[0mstr\u001b[0m\u001b[1;33m(\u001b[0m\u001b[0mprompt\u001b[0m\u001b[1;33m)\u001b[0m\u001b[1;33m,\u001b[0m\u001b[1;33m\u001b[0m\u001b[1;33m\u001b[0m\u001b[0m\n\u001b[0;32m   1008\u001b[0m             \u001b[0mself\u001b[0m\u001b[1;33m.\u001b[0m\u001b[0m_parent_ident\u001b[0m\u001b[1;33m[\u001b[0m\u001b[1;34m\"shell\"\u001b[0m\u001b[1;33m]\u001b[0m\u001b[1;33m,\u001b[0m\u001b[1;33m\u001b[0m\u001b[1;33m\u001b[0m\u001b[0m\n",
      "\u001b[1;32m~\\anaconda3\\lib\\site-packages\\ipykernel\\kernelbase.py\u001b[0m in \u001b[0;36m_input_request\u001b[1;34m(self, prompt, ident, parent, password)\u001b[0m\n\u001b[0;32m   1049\u001b[0m             \u001b[1;32mexcept\u001b[0m \u001b[0mKeyboardInterrupt\u001b[0m\u001b[1;33m:\u001b[0m\u001b[1;33m\u001b[0m\u001b[1;33m\u001b[0m\u001b[0m\n\u001b[0;32m   1050\u001b[0m                 \u001b[1;31m# re-raise KeyboardInterrupt, to truncate traceback\u001b[0m\u001b[1;33m\u001b[0m\u001b[1;33m\u001b[0m\u001b[0m\n\u001b[1;32m-> 1051\u001b[1;33m                 \u001b[1;32mraise\u001b[0m \u001b[0mKeyboardInterrupt\u001b[0m\u001b[1;33m(\u001b[0m\u001b[1;34m\"Interrupted by user\"\u001b[0m\u001b[1;33m)\u001b[0m \u001b[1;32mfrom\u001b[0m \u001b[1;32mNone\u001b[0m\u001b[1;33m\u001b[0m\u001b[1;33m\u001b[0m\u001b[0m\n\u001b[0m\u001b[0;32m   1052\u001b[0m             \u001b[1;32mexcept\u001b[0m \u001b[0mException\u001b[0m\u001b[1;33m:\u001b[0m\u001b[1;33m\u001b[0m\u001b[1;33m\u001b[0m\u001b[0m\n\u001b[0;32m   1053\u001b[0m                 \u001b[0mself\u001b[0m\u001b[1;33m.\u001b[0m\u001b[0mlog\u001b[0m\u001b[1;33m.\u001b[0m\u001b[0mwarning\u001b[0m\u001b[1;33m(\u001b[0m\u001b[1;34m\"Invalid Message:\"\u001b[0m\u001b[1;33m,\u001b[0m \u001b[0mexc_info\u001b[0m\u001b[1;33m=\u001b[0m\u001b[1;32mTrue\u001b[0m\u001b[1;33m)\u001b[0m\u001b[1;33m\u001b[0m\u001b[1;33m\u001b[0m\u001b[0m\n",
      "\u001b[1;31mKeyboardInterrupt\u001b[0m: Interrupted by user"
     ]
    }
   ],
   "source": [
    "#1047\n",
    "\n",
    "a,c,b,d=list(map(int,input().split()))\n",
    "\n",
    "df=((b*60)+d)-((a*60)+c)\n",
    "if(df<=0):\n",
    "    df+=24*60\n",
    "    \n",
    "t=df//60\n",
    "m=df%60\n",
    "print(f\"O JOGO DUROU {t} HORA(S) E {m} MINUTO(S)\")"
   ]
  },
  {
   "cell_type": "code",
   "execution_count": 12,
   "id": "8c205847",
   "metadata": {},
   "outputs": [
    {
     "name": "stdout",
     "output_type": "stream",
     "text": [
      "vertebrado\n",
      "mamifero\n",
      "onivoro\n",
      "homem\n"
     ]
    }
   ],
   "source": [
    "#1049\n",
    "\n",
    "x = input()\n",
    "y = input()\n",
    "z = input()\n",
    "\n",
    "if x == 'vertebrado' and y == 'ave' and z == 'carnivoro':\n",
    "    animal = 'aguia'\n",
    "if x == 'vertebrado' and y == 'ave' and z == 'onivoro':\n",
    "    animal = 'pomba'\n",
    "\n",
    "if x == 'vertebrado' and y == 'mamifero' and z == 'onivoro':\n",
    "    animal = 'homem'\n",
    "\n",
    "if x == 'vertebrado' and y == 'mamifero' and z == 'herbivoro':\n",
    "    animal = 'vaca'\n",
    "\n",
    "if x == 'invertebrado' and y == 'inseto' and z == 'hematofago':\n",
    "    animal = 'pulga'\n",
    "\n",
    "if x == 'invertebrado' and y == 'inseto' and z == 'herbivoro':\n",
    "    animal = 'lagarta'\n",
    "\n",
    "if x == 'invertebrado' and y == 'anelideo' and z == 'hematofago':\n",
    "    animal = 'sanguessuga'\n",
    "\n",
    "if x == 'invertebrado' and y == 'anelideo' and z == 'onivoro':\n",
    "    animal = 'minhoca'\n",
    "\n",
    "print(animal)"
   ]
  },
  {
   "cell_type": "code",
   "execution_count": 13,
   "id": "4b5b43cb",
   "metadata": {},
   "outputs": [
    {
     "name": "stdout",
     "output_type": "stream",
     "text": [
      "11\n",
      "Sao Paulo\n"
     ]
    }
   ],
   "source": [
    "#1050\n",
    "\n",
    "x=int(input())\n",
    "if x==61:\n",
    "    print(\"Brasilia\")\n",
    "elif x==71:\n",
    "    print(\"Salvador\")\n",
    "elif x==11:\n",
    "    print(\"Sao Paulo\")\n",
    "elif x==21:\n",
    "    print(\"Rio de Janeiro\")\n",
    "elif x==32:\n",
    "    print(\"Juiz de Fora\")\n",
    "elif x==19:\n",
    "    print(\"Campinas\")\n",
    "elif x==27:\n",
    "    print(\"Vitoria\")\n",
    "elif x==31:\n",
    "    print(\"Belo Horizonte\")\n",
    "else:\n",
    "    print(\"DDD nao cadastrado\")"
   ]
  },
  {
   "cell_type": "code",
   "execution_count": 14,
   "id": "7390a72b",
   "metadata": {},
   "outputs": [
    {
     "name": "stdout",
     "output_type": "stream",
     "text": [
      "3002.00\n",
      "R$ 80.36\n"
     ]
    }
   ],
   "source": [
    "#1050\n",
    "\n",
    "salary =float(input())\n",
    "if(salary>0 and salary<=2000):\n",
    " print(f\"Isento\")\n",
    "elif(salary>2000 and salary<=3000):\n",
    " x=salary-2000\n",
    " result=x*0.08\n",
    " print(f\"R$ {result:0.2f}\")\n",
    "elif(salary>3000 and salary<4500):\n",
    " x=salary-3000\n",
    " result = (x * 0.18) + (1000 * 0.08)\n",
    " print(f\"R$ {result:0.2f}\")\n",
    "else:\n",
    " x=sal-4500\n",
    " result = (x*0.28)+(1500*0.18)+(1000*0.08)\n",
    " print(f\"R$ {result:0.2f}\")"
   ]
  },
  {
   "cell_type": "code",
   "execution_count": 15,
   "id": "f6bba7ab",
   "metadata": {},
   "outputs": [
    {
     "name": "stdout",
     "output_type": "stream",
     "text": [
      "3\n",
      "March\n"
     ]
    }
   ],
   "source": [
    "#1052\n",
    "\n",
    "x=int(input())\n",
    "if(x==1):\n",
    "    print(\"January\")\n",
    "elif(x==2):\n",
    "    print(\"February\")\n",
    "elif(x==3):\n",
    "    print(\"March\")\n",
    "elif(x==4):\n",
    "    print(\"April\")\n",
    "elif(x==5):\n",
    "    print(\"May\")\n",
    "elif(x==6):\n",
    "    print(\"June\")\n",
    "elif(x==7):\n",
    "    print(\"July\")\n",
    "elif(x==8):\n",
    "    print(\"August\")\n",
    "elif(x==9):\n",
    "    print(\"September\")\n",
    "elif(x==10):\n",
    "    print(\"October\")\n",
    "elif(x==11):\n",
    "    print(\"November\")\n",
    "elif(x==12):\n",
    "    print(\"December\")"
   ]
  },
  {
   "cell_type": "code",
   "execution_count": 16,
   "id": "f10efa28",
   "metadata": {},
   "outputs": [
    {
     "name": "stdout",
     "output_type": "stream",
     "text": [
      "2\n",
      "4\n",
      "6\n",
      "8\n",
      "10\n",
      "12\n",
      "14\n",
      "16\n",
      "18\n",
      "20\n",
      "22\n",
      "24\n",
      "26\n",
      "28\n",
      "30\n",
      "32\n",
      "34\n",
      "36\n",
      "38\n",
      "40\n",
      "42\n",
      "44\n",
      "46\n",
      "48\n",
      "50\n",
      "52\n",
      "54\n",
      "56\n",
      "58\n",
      "60\n",
      "62\n",
      "64\n",
      "66\n",
      "68\n",
      "70\n",
      "72\n",
      "74\n",
      "76\n",
      "78\n",
      "80\n",
      "82\n",
      "84\n",
      "86\n",
      "88\n",
      "90\n",
      "92\n",
      "94\n",
      "96\n",
      "98\n",
      "100\n"
     ]
    }
   ],
   "source": [
    "#1059\n",
    "\n",
    "for i in range(1,100+1):\n",
    "    if i%2==0:\n",
    "        print(i)"
   ]
  },
  {
   "cell_type": "code",
   "execution_count": 18,
   "id": "d323f8a9",
   "metadata": {},
   "outputs": [
    {
     "name": "stdout",
     "output_type": "stream",
     "text": [
      "7\n",
      "-5\n",
      "6\n",
      "-3.4\n",
      "4.6\n",
      "12\n",
      "4 valores positivos\n"
     ]
    }
   ],
   "source": [
    "#1060\n",
    "\n",
    "c=0\n",
    "for i in range(6):\n",
    "    n=float(input())\n",
    "    if(n>0):\n",
    "       c+=1\n",
    "print(f'{c} valores positivos')"
   ]
  },
  {
   "cell_type": "code",
   "execution_count": 19,
   "id": "68e0e037",
   "metadata": {},
   "outputs": [
    {
     "name": "stdout",
     "output_type": "stream",
     "text": [
      "7\n",
      "-5\n",
      "6\n",
      "-3.4\n",
      "4.6\n",
      "12\n",
      "4 valores positivos\n",
      "7.4\n"
     ]
    }
   ],
   "source": [
    "#1064\n",
    "\n",
    "c=0\n",
    "s=0.0\n",
    "for i in range(1,7):\n",
    "    n = float(input())\n",
    "    if(n>0):\n",
    "        s=s+n\n",
    "        c=c+1\n",
    "avg=s/c\n",
    "print(\"%i valores positivos\"%c)\n",
    "print(\"%0.1f\"%avg)"
   ]
  },
  {
   "cell_type": "code",
   "execution_count": 22,
   "id": "9b43bf41",
   "metadata": {},
   "outputs": [
    {
     "name": "stdout",
     "output_type": "stream",
     "text": [
      "7\n",
      "-5\n",
      "6\n",
      "-4\n",
      "12\n",
      "3 valores pares\n"
     ]
    }
   ],
   "source": [
    "#1065\n",
    "\n",
    "c=0\n",
    "for i in range(5):\n",
    "    n = float(input())\n",
    "    if(n%2==0):\n",
    "        c=c+1\n",
    "print(\"%i valores pares\"%c)"
   ]
  },
  {
   "cell_type": "code",
   "execution_count": 23,
   "id": "33f65d0d",
   "metadata": {},
   "outputs": [
    {
     "name": "stdout",
     "output_type": "stream",
     "text": [
      "8\n",
      "1\n",
      "3\n",
      "5\n",
      "7\n"
     ]
    }
   ],
   "source": [
    "#1067\n",
    "\n",
    "n=int(input())\n",
    "\n",
    "for j in range(1,n+1):\n",
    "    if(j%2)==1:\n",
    "        print(j)"
   ]
  },
  {
   "cell_type": "code",
   "execution_count": 24,
   "id": "c914405c",
   "metadata": {},
   "outputs": [
    {
     "name": "stdout",
     "output_type": "stream",
     "text": [
      "8\n",
      "9\n",
      "11\n",
      "13\n",
      "15\n",
      "17\n",
      "19\n"
     ]
    }
   ],
   "source": [
    "#1070\n",
    "\n",
    "x=int(input())\n",
    "i=0\n",
    "while(i<6):\n",
    "    if(x%2!=0):\n",
    "        print(x)\n",
    "        i=i+1\n",
    "    x=x+1"
   ]
  },
  {
   "cell_type": "code",
   "execution_count": 25,
   "id": "58c62b0f",
   "metadata": {},
   "outputs": [
    {
     "name": "stdout",
     "output_type": "stream",
     "text": [
      "4\n",
      "14\n",
      "123\n",
      "10\n",
      "-25\n",
      "2 in\n",
      "2 out\n"
     ]
    }
   ],
   "source": [
    "#1071\n",
    "\n",
    "x=int(input())\n",
    "inside=0\n",
    "outside=0\n",
    "for i in range(0,x):\n",
    "    n=int(input())\n",
    "    if(10<=n<=20):\n",
    "        inside=inside+1\n",
    "    else:\n",
    "        outside=outside+1\n",
    "print(\"%i in\"%inside)\n",
    "print(\"%i out\"%outside)"
   ]
  },
  {
   "cell_type": "code",
   "execution_count": 26,
   "id": "3fae2f50",
   "metadata": {},
   "outputs": [
    {
     "name": "stdout",
     "output_type": "stream",
     "text": [
      "6\n",
      "2^2 = 4\n",
      "4^2 = 16\n",
      "6^2 = 36\n"
     ]
    }
   ],
   "source": [
    "#1072\n",
    "\n",
    "n= int(input())\n",
    "for i in range(1,n+1):\n",
    "    if(i%2==0):\n",
    "        print(f\"{i}^2 = {pow(i,2)}\")"
   ]
  },
  {
   "cell_type": "code",
   "execution_count": null,
   "id": "b9fa6426",
   "metadata": {},
   "outputs": [],
   "source": []
  }
 ],
 "metadata": {
  "kernelspec": {
   "display_name": "Python 3 (ipykernel)",
   "language": "python",
   "name": "python3"
  },
  "language_info": {
   "codemirror_mode": {
    "name": "ipython",
    "version": 3
   },
   "file_extension": ".py",
   "mimetype": "text/x-python",
   "name": "python",
   "nbconvert_exporter": "python",
   "pygments_lexer": "ipython3",
   "version": "3.9.7"
  }
 },
 "nbformat": 4,
 "nbformat_minor": 5
}
